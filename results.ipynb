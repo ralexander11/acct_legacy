{
 "cells": [
  {
   "cell_type": "code",
   "execution_count": 51,
   "metadata": {},
   "outputs": [
    {
     "data": {
      "text/html": [
       "<style>.container { width:70% !important; }</style>"
      ],
      "text/plain": [
       "<IPython.core.display.HTML object>"
      ]
     },
     "metadata": {},
     "output_type": "display_data"
    }
   ],
   "source": [
    "%matplotlib inline\n",
    "\n",
    "import numpy as np\n",
    "import pandas as pd\n",
    "\n",
    "from IPython.display import display\n",
    "\n",
    "import matplotlib.pyplot as plt\n",
    "plt.style.use('ggplot')\n",
    "\n",
    "from IPython.core.display import display, HTML\n",
    "display(HTML(\"<style>.container { width:70% !important; }</style>\"))\n",
    "pd.options.display.float_format = '${:,.2f}'.format\n",
    "\n",
    "from beakerx import *"
   ]
  },
  {
   "cell_type": "code",
   "execution_count": 52,
   "metadata": {},
   "outputs": [
    {
     "data": {
      "application/vnd.jupyter.widget-view+json": {
       "model_id": "95c3ceed97644af1b3dfebc9a1baf604",
       "version_major": 2,
       "version_minor": 0
      }
     },
     "metadata": {},
     "output_type": "display_data"
    }
   ],
   "source": [
    "path = 'http://becauseinterfaces.com/acct/data/'\n",
    "infile = 'bs_hist_first01.csv'\n",
    "df = pd.read_csv(path + infile, index_col=['date','entity'], parse_dates=True)\n",
    "#print(df)\n",
    "table = TableDisplay(df)\n",
    "table"
   ]
  },
  {
   "cell_type": "code",
   "execution_count": 53,
   "metadata": {},
   "outputs": [
    {
     "name": "stdout",
     "output_type": "stream",
     "text": [
      "                   revenues  expenses  net_income  net_asset_value  delta\n",
      "entity date                                                              \n",
      "1      2018-09-12     $0.00     $2.13      $-2.13           $-2.13   $nan\n"
     ]
    }
   ],
   "source": [
    "result = df.groupby(['entity','date']).sum()\n",
    "result['delta'] = result['net_asset_value'] - result['net_asset_value'].shift(1)\n",
    "columns = ['revenues','expenses','net_income','net_asset_value','delta']\n",
    "with pd.option_context('display.max_rows', None, 'display.max_columns', None):\n",
    "    print(result[columns])"
   ]
  },
  {
   "cell_type": "code",
   "execution_count": 54,
   "metadata": {},
   "outputs": [
    {
     "data": {
      "text/plain": [
       "<matplotlib.text.Text at 0x117edfdd8>"
      ]
     },
     "execution_count": 54,
     "metadata": {},
     "output_type": "execute_result"
    },
    {
     "data": {
      "image/png": "[encoded data removed]",
      "text/plain": [
       "<matplotlib.figure.Figure at 0x117ecf3c8>"
      ]
     },
     "metadata": {},
     "output_type": "display_data"
    }
   ],
   "source": [
    "ax = df['net_asset_value'].plot(legend=True)\n",
    "ax.set_ylabel('NAV')"
   ]
  },
  {
   "cell_type": "code",
   "execution_count": null,
   "metadata": {},
   "outputs": [],
   "source": []
  }
 ],
 "metadata": {
  "kernelspec": {
   "display_name": "acct",
   "language": "python",
   "name": "python3"
  },
  "language_info": {
   "codemirror_mode": {
    "name": "ipython",
    "version": 3
   },
   "file_extension": ".py",
   "mimetype": "text/x-python",
   "name": "python",
   "nbconvert_exporter": "python",
   "pygments_lexer": "ipython3",
   "version": "3.10.8 (main, Nov 24 2022, 14:13:03) [GCC 11.2.0]"
  },
  "vscode": {
   "interpreter": {
    "hash": "2391f542863e3ef53e28ef889f62d6b02377227481822641defb5b767d650574"
   }
  }
 },
 "nbformat": 4,
 "nbformat_minor": 2
}
